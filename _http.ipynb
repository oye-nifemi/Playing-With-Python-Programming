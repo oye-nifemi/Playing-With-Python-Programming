{
 "cells": [
  {
   "cell_type": "code",
   "execution_count": 1,
   "metadata": {},
   "outputs": [
    {
     "name": "stdout",
     "output_type": "stream",
     "text": [
      "<Response [200]>\n"
     ]
    }
   ],
   "source": [
    "import requests\n",
    "\n",
    "url = \"http://www.ibm.com/\"\n",
    "r = requests.get(url)\n",
    "print(r)"
   ]
  },
  {
   "cell_type": "code",
   "execution_count": 3,
   "metadata": {},
   "outputs": [
    {
     "name": "stdout",
     "output_type": "stream",
     "text": [
      "<Response [200]>\n"
     ]
    }
   ],
   "source": [
    "import requests\n",
    "\n",
    "url = \"http://www.ibm.com/\"\n",
    "r = requests.get(url) # making get request\n",
    "print(r)"
   ]
  },
  {
   "cell_type": "code",
   "execution_count": 4,
   "metadata": {},
   "outputs": [
    {
     "name": "stdout",
     "output_type": "stream",
     "text": [
      "200\n",
      "{'User-Agent': 'python-requests/2.28.1', 'Accept-Encoding': 'gzip, deflate', 'Accept': '*/*', 'Connection': 'keep-alive', 'Cookie': '_abck=89D908A24761F7C6C9D607FA3FC866DB~-1~YAAQZCwUAj97fD+EAQAAVuzIUQhgCWZOTK3xKSlzqOInvfcjIR5m1UI2uW4qQ2uc5n44CyIcAFtjhYQtXi5UXmjoCLWIDBYBhF9I2AdD+eyldK9qumqYMc7bDyjPAeH0J44HALUFnQbtZOzb9sEdv52qvseL8E5t8SAg60B+ZKugBAHxLyFYP8qnXh12XSnEQ+azRxEymNj7vmWoyCY0QmUy4p8pb0li4xV5NLBVA4LtJMoWyZgdjm5km60VgNjLVB6rtCX4R/Cw7CheqI9FDK4j2s44/3+gSdZoU8Lke/9Boqrn9rO+5EMVsZhW5fVyQVRNuqrnPNkiXDrRL7v0/M0=~-1~-1~-1; bm_sz=6FD8E7ED71DCFDDBEF4AC2C3902E88D5~YAAQZCwUAkB7fD+EAQAAVuzIURGTmlvTs6U2gvGhTtMQ6DnANEGe5b8WfHa2TBX2HcGCYXdbOSXExbkYIm60xLYdP/Zg9pr8TJl71bPkzBBK59UzFRVXYRrWK8geAfUK3FZSUD25jIzct/cQVUiG7YQGGyguwR6zcLzdOvaz877PsEy6eFQ5rPLrBJzr/Wn6JE0rwYdrWvYqotDdjMlQcgKQNwfTHeQBefw1g01dpbCT7D3sa+RQorvVcNFxBPQ33rRlQsrt8slHpVImQOpbt9u2LwbAxYj6rEmkIyxeu0Y=~4469057~3552325'}\n",
      "None\n"
     ]
    }
   ],
   "source": [
    "print(r.status_code) # status code\n"
   ]
  },
  {
   "cell_type": "code",
   "execution_count": 5,
   "metadata": {},
   "outputs": [
    {
     "name": "stdout",
     "output_type": "stream",
     "text": [
      "{'User-Agent': 'python-requests/2.28.1', 'Accept-Encoding': 'gzip, deflate', 'Accept': '*/*', 'Connection': 'keep-alive', 'Cookie': '_abck=89D908A24761F7C6C9D607FA3FC866DB~-1~YAAQZCwUAj97fD+EAQAAVuzIUQhgCWZOTK3xKSlzqOInvfcjIR5m1UI2uW4qQ2uc5n44CyIcAFtjhYQtXi5UXmjoCLWIDBYBhF9I2AdD+eyldK9qumqYMc7bDyjPAeH0J44HALUFnQbtZOzb9sEdv52qvseL8E5t8SAg60B+ZKugBAHxLyFYP8qnXh12XSnEQ+azRxEymNj7vmWoyCY0QmUy4p8pb0li4xV5NLBVA4LtJMoWyZgdjm5km60VgNjLVB6rtCX4R/Cw7CheqI9FDK4j2s44/3+gSdZoU8Lke/9Boqrn9rO+5EMVsZhW5fVyQVRNuqrnPNkiXDrRL7v0/M0=~-1~-1~-1; bm_sz=6FD8E7ED71DCFDDBEF4AC2C3902E88D5~YAAQZCwUAkB7fD+EAQAAVuzIURGTmlvTs6U2gvGhTtMQ6DnANEGe5b8WfHa2TBX2HcGCYXdbOSXExbkYIm60xLYdP/Zg9pr8TJl71bPkzBBK59UzFRVXYRrWK8geAfUK3FZSUD25jIzct/cQVUiG7YQGGyguwR6zcLzdOvaz877PsEy6eFQ5rPLrBJzr/Wn6JE0rwYdrWvYqotDdjMlQcgKQNwfTHeQBefw1g01dpbCT7D3sa+RQorvVcNFxBPQ33rRlQsrt8slHpVImQOpbt9u2LwbAxYj6rEmkIyxeu0Y=~4469057~3552325'}\n"
     ]
    }
   ],
   "source": [
    "print(r.request.headers) # status headers\n"
   ]
  },
  {
   "cell_type": "code",
   "execution_count": 6,
   "metadata": {},
   "outputs": [
    {
     "name": "stdout",
     "output_type": "stream",
     "text": [
      "None\n"
     ]
    }
   ],
   "source": [
    "print(r.request.body) # request body"
   ]
  },
  {
   "cell_type": "code",
   "execution_count": 7,
   "metadata": {},
   "outputs": [
    {
     "name": "stdout",
     "output_type": "stream",
     "text": [
      "{'Server': 'Apache', 'Server-Timing': 'intid;desc=2c4e42db8bc352fd', 'x-drupal-dynamic-cache': 'UNCACHEABLE', 'Link': '<https://www.ibm.com/ng-en>; rel=\"canonical\", <//1.cms.s81c.com>; rel=preconnect; crossorigin, <//1.cms.s81c.com>; rel=dns-prefetch', 'x-ua-compatible': 'IE=edge', 'Content-Language': 'en-ng', 'Permissions-Policy': 'interest-cohort=()', 'x-generator': 'Drupal 9 (https://www.drupal.org)', 'x-dns-prefetch-control': 'on', 'x-drupal-cache': 'MISS', 'Last-Modified': 'Mon, 07 Nov 2022 09:41:43 GMT', 'ETag': '\"1667814103\"', 'Content-Type': 'text/html; charset=UTF-8', 'x-acquia-host': 'www.ibm.com', 'x-acquia-path': '/ng-en', 'x-acquia-site': '', 'x-acquia-purge-tags': '', 'x-varnish': '29233813 17805731', 'x-cache-hits': '2', 'x-age': '4500', 'Accept-Ranges': 'bytes', 'Content-Encoding': 'gzip', 'Cache-Control': 'public, max-age=300', 'Expires': 'Mon, 07 Nov 2022 11:15:35 GMT', 'X-Akamai-Transformed': '9 8584 0 pmb=mTOE,2', 'Date': 'Mon, 07 Nov 2022 11:10:35 GMT', 'Content-Length': '8756', 'Connection': 'keep-alive', 'Vary': 'Accept-Encoding', 'x-content-type-options': 'nosniff', 'X-XSS-Protection': '1; mode=block', 'Content-Security-Policy': 'upgrade-insecure-requests', 'Strict-Transport-Security': 'max-age=31536000', 'x-ibm-trace': 'www-dipatcher: dynamic rule'}\n"
     ]
    }
   ],
   "source": [
    "header = r.headers # view response header\n",
    "print(header)\n"
   ]
  },
  {
   "cell_type": "code",
   "execution_count": 8,
   "metadata": {},
   "outputs": [
    {
     "name": "stdout",
     "output_type": "stream",
     "text": [
      "Mon, 07 Nov 2022 11:10:35 GMT\n"
     ]
    }
   ],
   "source": [
    "print(header['date']) # date request was sent\n"
   ]
  },
  {
   "cell_type": "code",
   "execution_count": 9,
   "metadata": {},
   "outputs": [
    {
     "name": "stdout",
     "output_type": "stream",
     "text": [
      "text/html; charset=UTF-8\n"
     ]
    }
   ],
   "source": [
    "print(header['Content-Type']) # type of data\n"
   ]
  },
  {
   "cell_type": "code",
   "execution_count": 10,
   "metadata": {},
   "outputs": [
    {
     "name": "stdout",
     "output_type": "stream",
     "text": [
      "UTF-8\n"
     ]
    }
   ],
   "source": [
    "print(r.encoding) # check the encoding\n"
   ]
  },
  {
   "cell_type": "code",
   "execution_count": 11,
   "metadata": {},
   "outputs": [
    {
     "name": "stdout",
     "output_type": "stream",
     "text": [
      "<!DOCTYPE html>\n",
      "<html lang=\"en-ng\" dir=\"ltr\">\n",
      "  <head>\n",
      "    <meta charset=\"utf-8\" />\n",
      "<script>digitalD\n"
     ]
    }
   ],
   "source": [
    "print(r.text[0:100]) # since content type is text, we can view the content by specifying index\n",
    "\n"
   ]
  },
  {
   "cell_type": "code",
   "execution_count": 12,
   "metadata": {},
   "outputs": [
    {
     "name": "stdout",
     "output_type": "stream",
     "text": [
      "http://httpbin.org/get?name=Joseph&ID=123\n"
     ]
    }
   ],
   "source": [
    "# Get Request\n",
    "\n",
    "url_get = \"http://httpbin.org/get\"\n",
    "payload = {\"name\":\"Joseph\", \"ID\":\"123\"}\n",
    "r=requests.get(url_get, params=payload)\n",
    "print(r.url)\n"
   ]
  },
  {
   "cell_type": "code",
   "execution_count": 13,
   "metadata": {},
   "outputs": [
    {
     "name": "stdout",
     "output_type": "stream",
     "text": [
      "None\n",
      "200\n",
      "{\n",
      "  \"args\": {\n",
      "    \"ID\": \"123\", \n",
      "    \"name\": \"Joseph\"\n",
      "  }, \n",
      "  \"headers\": {\n",
      "    \"Accept\": \"*/*\", \n",
      "    \"Accept-Encoding\": \"gzip, deflate\", \n",
      "    \"Host\": \"httpbin.org\", \n",
      "    \"User-Agent\": \"python-requests/2.28.1\", \n",
      "    \"X-Amzn-Trace-Id\": \"Root=1-6368e81d-6bc3f0286e694fff40700e3e\"\n",
      "  }, \n",
      "  \"origin\": \"105.112.75.11\", \n",
      "  \"url\": \"http://httpbin.org/get?name=Joseph&ID=123\"\n",
      "}\n",
      "\n"
     ]
    }
   ],
   "source": [
    "print(r.request.body) # request body\n",
    "print(r.status_code) # status code\n",
    "print(r.text)\n"
   ]
  },
  {
   "cell_type": "code",
   "execution_count": 14,
   "metadata": {},
   "outputs": [
    {
     "name": "stdout",
     "output_type": "stream",
     "text": [
      "application/json\n",
      "{'args': {'ID': '123', 'name': 'Joseph'}, 'headers': {'Accept': '*/*', 'Accept-Encoding': 'gzip, deflate', 'Host': 'httpbin.org', 'User-Agent': 'python-requests/2.28.1', 'X-Amzn-Trace-Id': 'Root=1-6368e81d-6bc3f0286e694fff40700e3e'}, 'origin': '105.112.75.11', 'url': 'http://httpbin.org/get?name=Joseph&ID=123'}\n",
      "{'ID': '123', 'name': 'Joseph'}\n"
     ]
    }
   ],
   "source": [
    "print(r.headers[\"Content-Type\"])\n",
    "print(r.json())\n",
    "print(r.json()[\"args\"]) # The key 'args' has the name and values for the  query string\n",
    "\n"
   ]
  },
  {
   "cell_type": "code",
   "execution_count": 15,
   "metadata": {},
   "outputs": [],
   "source": [
    "# Post Request\n",
    "url_post = \"http://httpbin.org/post\"\n",
    "payload = {\"name\":\"Joseph\", \"ID\":\"123\"}\n",
    "r_post = requests.post(url_post, data=payload)\n",
    "\n"
   ]
  },
  {
   "cell_type": "code",
   "execution_count": 16,
   "metadata": {},
   "outputs": [
    {
     "name": "stdout",
     "output_type": "stream",
     "text": [
      "POST request URL:  http://httpbin.org/post\n",
      "GET request URL:  http://httpbin.org/get?name=Joseph&ID=123\n",
      "POST request body:  name=Joseph&ID=123\n",
      "GET request body:  None\n"
     ]
    }
   ],
   "source": [
    "print(\"POST request URL: \", r_post.url)\n",
    "print(\"GET request URL: \", r.url)\n",
    "\n",
    "print(\"POST request body: \", r_post.request.body)\n",
    "print(\"GET request body: \", r.request.body)"
   ]
  },
  {
   "cell_type": "code",
   "execution_count": null,
   "metadata": {},
   "outputs": [],
   "source": []
  }
 ],
 "metadata": {
  "kernelspec": {
   "display_name": "Python 3.10.8 64-bit (microsoft store)",
   "language": "python",
   "name": "python3"
  },
  "language_info": {
   "codemirror_mode": {
    "name": "ipython",
    "version": 3
   },
   "file_extension": ".py",
   "mimetype": "text/x-python",
   "name": "python",
   "nbconvert_exporter": "python",
   "pygments_lexer": "ipython3",
   "version": "3.10.8"
  },
  "orig_nbformat": 4,
  "vscode": {
   "interpreter": {
    "hash": "24965eaa8e8d09436fbd6505d2cb14d18f87188271f71fd565160fc702b626af"
   }
  }
 },
 "nbformat": 4,
 "nbformat_minor": 2
}
